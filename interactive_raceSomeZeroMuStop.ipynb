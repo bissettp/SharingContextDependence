{
 "cells": [
  {
   "cell_type": "markdown",
   "metadata": {},
   "source": [
    "## Variant of the Interactive Race Model that includes some trials with 0 mustop and lower per step variability "
   ]
  },
  {
   "cell_type": "code",
   "execution_count": 1,
   "metadata": {},
   "outputs": [],
   "source": [
    "import numpy\n",
    "import random\n",
    "import matplotlib.pyplot as plt\n",
    "import pandas\n",
    "\n",
    "%matplotlib inline"
   ]
  },
  {
   "cell_type": "code",
   "execution_count": 4,
   "metadata": {},
   "outputs": [
    {
     "name": "stdout",
     "output_type": "stream",
     "text": [
      "[461.85568761 439.45409836 414.33591331 368.6437414  316.2810189\n",
      " 293.39915966 301.79580675 316.96038151 326.91793179 331.7172471\n",
      " 337.30089395 342.7062    ]\n",
      "[0.1178 0.122  0.1292 0.1454 0.2434 0.4284 0.6582 0.8178 0.909  0.9648\n",
      " 0.9844 1.    ]\n"
     ]
    }
   ],
   "source": [
    "params={'mugo':.2,\n",
    "#        'mustop':.8, \n",
    "        'mustopstrong':.8,\n",
    "        'mustopweak':0,\n",
    "        'threshold':60,\n",
    "        'nondecisiongo':50,\n",
    "        'nondecisionstop':50,\n",
    "        'inhibitionParam':1, \n",
    "        'ssds':[1,50,100,150, 200,250, 300, 350, 400, 450, 500,3000],\n",
    "        'nreps':5000,\n",
    "        'maxtime':1000,\n",
    "        'proportionweak':.15}\n",
    "\n",
    "def interactiverace(params):\n",
    "    stopaccumsave = []\n",
    "    mustopsave = []\n",
    "    stopsave = []\n",
    "    meanrtgo = numpy.zeros(len(params['ssds']))\n",
    "    presp = numpy.zeros(len(params['ssds']));\n",
    " \n",
    "    for irep in range(params['nreps']):\n",
    "        for j,ssd in enumerate(params['ssds']):\n",
    "            stopsignaldelay = ssd\n",
    "            goaccumulator = 0\n",
    "            stopaccumulator = 0\n",
    "            rtgo = 0\n",
    "            itime = 0\n",
    "            if random.uniform(0,1) < params['proportionweak']:\n",
    "                mustop = params['mustopweak']\n",
    "            else: \n",
    "                mustop = params['mustopstrong']\n",
    "#            while mustop<=0:\n",
    "#                mustop = params['mustop']+numpy.random.normal(loc=0, scale=1) \n",
    "            mustopsave.append(mustop)\n",
    "            while itime < params['maxtime'] and rtgo == 0: # single trial\n",
    "                itime = itime + 1\n",
    "                if itime < stopsignaldelay + params['nondecisionstop']:\n",
    "                    inhibition = 0\n",
    "                else:\n",
    "                    inhibition = params['inhibitionParam']\n",
    "                    if mustop == params['mustopweak']:\n",
    "                        stopaccumulator = stopaccumulator + mustop + numpy.random.normal(loc=0, scale=.008)\n",
    "                        stopsave.append(stopaccumulator)\n",
    "                    else: \n",
    "                        stopaccumulator = stopaccumulator + mustop + numpy.random.normal(loc=0, scale=1)\n",
    "                    if stopaccumulator <= 0:\n",
    "                        stopaccumulator = 0;\n",
    "                    stopaccumsave.append(stopaccumulator)\n",
    "                if itime >= params['nondecisiongo']:\n",
    "                    goaccumulator = goaccumulator + params['mugo'] - inhibition*stopaccumulator + numpy.random.normal(loc=0, scale=1)\n",
    "                    if goaccumulator <= 0:\n",
    "                        goaccumulator = 0;\n",
    "                if goaccumulator > params['threshold']:\n",
    "                    if rtgo == 0:\n",
    "                        rtgo = itime;\n",
    "            meanrtgo[j] += rtgo;\n",
    "            if rtgo > 0:\n",
    "                presp[j] += 1;\n",
    "\n",
    "    for ssd in range(len(params['ssds'])):\n",
    "        if presp[ssd] > 0:\n",
    "            meanrtgo[ssd] = meanrtgo[ssd]/presp[ssd];\n",
    "        presp[ssd] = presp[ssd]/params['nreps'];\n",
    "    return(meanrtgo,presp,mustopsave,stopaccumsave)\n",
    "\n",
    "meanrtgo,presp,mustopsave,stopaccumsave=interactiverace(params)\n",
    "print(meanrtgo)\n",
    "print(presp)\n",
    "#print(stopaccumsave)\n",
    "#print(mustopsave)"
   ]
  },
  {
   "cell_type": "code",
   "execution_count": 5,
   "metadata": {},
   "outputs": [
    {
     "data": {
      "text/plain": [
       "[1, 500, 0, 1]"
      ]
     },
     "execution_count": 5,
     "metadata": {},
     "output_type": "execute_result"
    },
    {
     "data": {
      "image/png": "[encoded data removed]",
      "text/plain": [
       "<Figure size 720x360 with 2 Axes>"
      ]
     },
     "metadata": {
      "needs_background": "light"
     },
     "output_type": "display_data"
    }
   ],
   "source": [
    "plt.figure(figsize=(10,5))\n",
    "plt.subplot(1,2,1)\n",
    "plt.plot(params['ssds'][:11],meanrtgo[:11] - meanrtgo[11])\n",
    "plt.plot([params['ssds'][0],params['ssds'][10]],[0,0],'k:')\n",
    "plt.xlabel('Stop signal delay')\n",
    "plt.ylabel('Violation (Stop Failure RT - No-Stop RT)')\n",
    "plt.subplot(1,2,2)\n",
    "plt.plot(params['ssds'][:11],presp[:11])\n",
    "plt.xlabel('Stop signal delay')\n",
    "plt.ylabel('Probability of responding')\n",
    "plt.axis([params['ssds'][0],params['ssds'][10],0,1])\n"
   ]
  },
  {
   "cell_type": "code",
   "execution_count": null,
   "metadata": {},
   "outputs": [],
   "source": []
  }
 ],
 "metadata": {
  "kernelspec": {
   "display_name": "Python 3",
   "language": "python",
   "name": "python3"
  },
  "language_info": {
   "codemirror_mode": {
    "name": "ipython",
    "version": 3
   },
   "file_extension": ".py",
   "mimetype": "text/x-python",
   "name": "python",
   "nbconvert_exporter": "python",
   "pygments_lexer": "ipython3",
   "version": "3.7.1"
  }
 },
 "nbformat": 4,
 "nbformat_minor": 2
}
